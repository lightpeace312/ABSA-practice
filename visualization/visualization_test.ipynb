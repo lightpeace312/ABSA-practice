{
 "cells": [
  {
   "cell_type": "code",
   "execution_count": 2,
   "metadata": {},
   "outputs": [],
   "source": [
    "import attention\n",
    "import viz_utils"
   ]
  },
  {
   "cell_type": "code",
   "execution_count": null,
   "metadata": {},
   "outputs": [],
   "source": [
    "# Convert inputs and outputs to subwords\n",
    "inp_text = to_tokens(encoders[\"inputs\"].encode(inputs))\n",
    "out_text = to_tokens(encoders[\"inputs\"].encode(outputs))\n",
    "\n",
    "# Run eval to collect attention weights\n",
    "example = encode_eval(inputs, outputs)\n",
    "with tfe.restore_variables_on_create(tf.train.latest_checkpoint(checkpoint_dir)):\n",
    "  translate_model.set_mode(Modes.EVAL)\n",
    "  translate_model(example)\n",
    "# Get normalized attention weights for each layer\n",
    "enc_atts, dec_atts, encdec_atts = get_att_mats()\n",
    "\n",
    "call_html()\n",
    "attention.show(inp_text, out_text, enc_atts, dec_atts, encdec_atts)"
   ]
  }
 ],
 "metadata": {
  "kernelspec": {
   "display_name": "Python 3",
   "language": "python",
   "name": "python3"
  },
  "language_info": {
   "codemirror_mode": {
    "name": "ipython",
    "version": 3
   },
   "file_extension": ".py",
   "mimetype": "text/x-python",
   "name": "python",
   "nbconvert_exporter": "python",
   "pygments_lexer": "ipython3",
   "version": "3.7.2"
  }
 },
 "nbformat": 4,
 "nbformat_minor": 2
}
